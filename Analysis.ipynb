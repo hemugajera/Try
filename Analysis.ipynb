{
 "cells": [
  {
   "cell_type": "code",
   "execution_count": 2,
   "metadata": {},
   "outputs": [],
   "source": [
    "import numpy as np\n",
    "import pandas as pd\n",
    "import matplotlib.pyplot as plt\n",
    "import seaborn as sns\n",
    "import datetime as dt"
   ]
  },
  {
   "cell_type": "code",
   "execution_count": 3,
   "metadata": {},
   "outputs": [
    {
     "name": "stderr",
     "output_type": "stream",
     "text": [
      "C:\\Users\\User\\AppData\\Local\\Temp\\ipykernel_9396\\633579176.py:1: DtypeWarning: Columns (7) have mixed types. Specify dtype option on import or set low_memory=False.\n",
      "  df = pd.read_csv(\"./cleaned_dataset.csv\")\n"
     ]
    }
   ],
   "source": [
    "df = pd.read_csv(\"./cleaned_dataset.csv\")"
   ]
  },
  {
   "cell_type": "code",
   "execution_count": 4,
   "metadata": {},
   "outputs": [
    {
     "name": "stdout",
     "output_type": "stream",
     "text": [
      "<class 'pandas.core.frame.DataFrame'>\n",
      "RangeIndex: 3547614 entries, 0 to 3547613\n",
      "Data columns (total 10 columns):\n",
      " #   Column            Dtype  \n",
      "---  ------            -----  \n",
      " 0   Unnamed: 0        int64  \n",
      " 1   Acc_X             float64\n",
      " 2   Acc_Y             float64\n",
      " 3   Acc_Z             float64\n",
      " 4   EDA_Level         float64\n",
      " 5   Heart_Rate        float64\n",
      " 6   Skin_Temperature  float64\n",
      " 7   id                object \n",
      " 8   datetime          object \n",
      " 9   Stress_Level      float64\n",
      "dtypes: float64(7), int64(1), object(2)\n",
      "memory usage: 270.7+ MB\n"
     ]
    }
   ],
   "source": [
    "df.info()"
   ]
  },
  {
   "cell_type": "code",
   "execution_count": 5,
   "metadata": {},
   "outputs": [
    {
     "data": {
      "text/html": [
       "<div>\n",
       "<style scoped>\n",
       "    .dataframe tbody tr th:only-of-type {\n",
       "        vertical-align: middle;\n",
       "    }\n",
       "\n",
       "    .dataframe tbody tr th {\n",
       "        vertical-align: top;\n",
       "    }\n",
       "\n",
       "    .dataframe thead th {\n",
       "        text-align: right;\n",
       "    }\n",
       "</style>\n",
       "<table border=\"1\" class=\"dataframe\">\n",
       "  <thead>\n",
       "    <tr style=\"text-align: right;\">\n",
       "      <th></th>\n",
       "      <th>Unnamed: 0</th>\n",
       "      <th>Acc_X</th>\n",
       "      <th>Acc_Y</th>\n",
       "      <th>Acc_Z</th>\n",
       "      <th>EDA_Level</th>\n",
       "      <th>Heart_Rate</th>\n",
       "      <th>Skin_Temperature</th>\n",
       "      <th>Stress_Level</th>\n",
       "    </tr>\n",
       "  </thead>\n",
       "  <tbody>\n",
       "    <tr>\n",
       "      <th>count</th>\n",
       "      <td>3.547614e+06</td>\n",
       "      <td>3.547614e+06</td>\n",
       "      <td>3.547614e+06</td>\n",
       "      <td>3.547614e+06</td>\n",
       "      <td>3.547614e+06</td>\n",
       "      <td>3.547614e+06</td>\n",
       "      <td>3.547614e+06</td>\n",
       "      <td>3.547614e+06</td>\n",
       "    </tr>\n",
       "    <tr>\n",
       "      <th>mean</th>\n",
       "      <td>1.773806e+06</td>\n",
       "      <td>-3.184147e+01</td>\n",
       "      <td>2.491204e-01</td>\n",
       "      <td>2.419172e+01</td>\n",
       "      <td>2.921197e+00</td>\n",
       "      <td>8.740788e+01</td>\n",
       "      <td>3.184846e+01</td>\n",
       "      <td>1.475020e+00</td>\n",
       "    </tr>\n",
       "    <tr>\n",
       "      <th>std</th>\n",
       "      <td>1.024108e+06</td>\n",
       "      <td>2.656315e+01</td>\n",
       "      <td>3.456945e+01</td>\n",
       "      <td>2.839852e+01</td>\n",
       "      <td>5.005628e+00</td>\n",
       "      <td>1.293654e+01</td>\n",
       "      <td>2.072024e+00</td>\n",
       "      <td>8.799754e-01</td>\n",
       "    </tr>\n",
       "    <tr>\n",
       "      <th>min</th>\n",
       "      <td>0.000000e+00</td>\n",
       "      <td>-1.280000e+02</td>\n",
       "      <td>-1.280000e+02</td>\n",
       "      <td>-1.280000e+02</td>\n",
       "      <td>0.000000e+00</td>\n",
       "      <td>5.100000e+01</td>\n",
       "      <td>2.409000e+01</td>\n",
       "      <td>0.000000e+00</td>\n",
       "    </tr>\n",
       "    <tr>\n",
       "      <th>25%</th>\n",
       "      <td>8.869032e+05</td>\n",
       "      <td>-5.200000e+01</td>\n",
       "      <td>-1.800000e+01</td>\n",
       "      <td>7.000000e+00</td>\n",
       "      <td>4.420060e-01</td>\n",
       "      <td>7.842000e+01</td>\n",
       "      <td>3.035000e+01</td>\n",
       "      <td>0.000000e+00</td>\n",
       "    </tr>\n",
       "    <tr>\n",
       "      <th>50%</th>\n",
       "      <td>1.773806e+06</td>\n",
       "      <td>-3.500000e+01</td>\n",
       "      <td>2.000000e+00</td>\n",
       "      <td>2.600000e+01</td>\n",
       "      <td>1.063457e+00</td>\n",
       "      <td>8.538000e+01</td>\n",
       "      <td>3.195000e+01</td>\n",
       "      <td>2.000000e+00</td>\n",
       "    </tr>\n",
       "    <tr>\n",
       "      <th>75%</th>\n",
       "      <td>2.660710e+06</td>\n",
       "      <td>-1.600000e+01</td>\n",
       "      <td>1.900000e+01</td>\n",
       "      <td>4.700000e+01</td>\n",
       "      <td>3.047424e+00</td>\n",
       "      <td>9.425000e+01</td>\n",
       "      <td>3.353000e+01</td>\n",
       "      <td>2.000000e+00</td>\n",
       "    </tr>\n",
       "    <tr>\n",
       "      <th>max</th>\n",
       "      <td>3.547613e+06</td>\n",
       "      <td>1.270000e+02</td>\n",
       "      <td>1.270000e+02</td>\n",
       "      <td>1.270000e+02</td>\n",
       "      <td>4.458383e+01</td>\n",
       "      <td>1.701200e+02</td>\n",
       "      <td>3.643000e+01</td>\n",
       "      <td>2.000000e+00</td>\n",
       "    </tr>\n",
       "  </tbody>\n",
       "</table>\n",
       "</div>"
      ],
      "text/plain": [
       "         Unnamed: 0         Acc_X         Acc_Y         Acc_Z     EDA_Level  \\\n",
       "count  3.547614e+06  3.547614e+06  3.547614e+06  3.547614e+06  3.547614e+06   \n",
       "mean   1.773806e+06 -3.184147e+01  2.491204e-01  2.419172e+01  2.921197e+00   \n",
       "std    1.024108e+06  2.656315e+01  3.456945e+01  2.839852e+01  5.005628e+00   \n",
       "min    0.000000e+00 -1.280000e+02 -1.280000e+02 -1.280000e+02  0.000000e+00   \n",
       "25%    8.869032e+05 -5.200000e+01 -1.800000e+01  7.000000e+00  4.420060e-01   \n",
       "50%    1.773806e+06 -3.500000e+01  2.000000e+00  2.600000e+01  1.063457e+00   \n",
       "75%    2.660710e+06 -1.600000e+01  1.900000e+01  4.700000e+01  3.047424e+00   \n",
       "max    3.547613e+06  1.270000e+02  1.270000e+02  1.270000e+02  4.458383e+01   \n",
       "\n",
       "         Heart_Rate  Skin_Temperature  Stress_Level  \n",
       "count  3.547614e+06      3.547614e+06  3.547614e+06  \n",
       "mean   8.740788e+01      3.184846e+01  1.475020e+00  \n",
       "std    1.293654e+01      2.072024e+00  8.799754e-01  \n",
       "min    5.100000e+01      2.409000e+01  0.000000e+00  \n",
       "25%    7.842000e+01      3.035000e+01  0.000000e+00  \n",
       "50%    8.538000e+01      3.195000e+01  2.000000e+00  \n",
       "75%    9.425000e+01      3.353000e+01  2.000000e+00  \n",
       "max    1.701200e+02      3.643000e+01  2.000000e+00  "
      ]
     },
     "execution_count": 5,
     "metadata": {},
     "output_type": "execute_result"
    }
   ],
   "source": [
    "df.describe()"
   ]
  },
  {
   "cell_type": "code",
   "execution_count": 6,
   "metadata": {},
   "outputs": [
    {
     "data": {
      "text/html": [
       "<div>\n",
       "<style scoped>\n",
       "    .dataframe tbody tr th:only-of-type {\n",
       "        vertical-align: middle;\n",
       "    }\n",
       "\n",
       "    .dataframe tbody tr th {\n",
       "        vertical-align: top;\n",
       "    }\n",
       "\n",
       "    .dataframe thead th {\n",
       "        text-align: right;\n",
       "    }\n",
       "</style>\n",
       "<table border=\"1\" class=\"dataframe\">\n",
       "  <thead>\n",
       "    <tr style=\"text-align: right;\">\n",
       "      <th></th>\n",
       "      <th>Unnamed: 0</th>\n",
       "      <th>Acc_X</th>\n",
       "      <th>Acc_Y</th>\n",
       "      <th>Acc_Z</th>\n",
       "      <th>EDA_Level</th>\n",
       "      <th>Heart_Rate</th>\n",
       "      <th>Skin_Temperature</th>\n",
       "      <th>id</th>\n",
       "      <th>datetime</th>\n",
       "      <th>Stress_Level</th>\n",
       "    </tr>\n",
       "  </thead>\n",
       "  <tbody>\n",
       "    <tr>\n",
       "      <th>0</th>\n",
       "      <td>0</td>\n",
       "      <td>-13.0</td>\n",
       "      <td>-61.0</td>\n",
       "      <td>5.0</td>\n",
       "      <td>6.769995</td>\n",
       "      <td>99.43</td>\n",
       "      <td>31.17</td>\n",
       "      <td>15</td>\n",
       "      <td>2020-07-08 14:03:00.000000000</td>\n",
       "      <td>2.0</td>\n",
       "    </tr>\n",
       "    <tr>\n",
       "      <th>1</th>\n",
       "      <td>1</td>\n",
       "      <td>-20.0</td>\n",
       "      <td>-69.0</td>\n",
       "      <td>-3.0</td>\n",
       "      <td>6.769995</td>\n",
       "      <td>99.43</td>\n",
       "      <td>31.17</td>\n",
       "      <td>15</td>\n",
       "      <td>2020-07-08 14:03:00.031249920</td>\n",
       "      <td>2.0</td>\n",
       "    </tr>\n",
       "    <tr>\n",
       "      <th>2</th>\n",
       "      <td>2</td>\n",
       "      <td>-31.0</td>\n",
       "      <td>-78.0</td>\n",
       "      <td>-15.0</td>\n",
       "      <td>6.769995</td>\n",
       "      <td>99.43</td>\n",
       "      <td>31.17</td>\n",
       "      <td>15</td>\n",
       "      <td>2020-07-08 14:03:00.062500096</td>\n",
       "      <td>2.0</td>\n",
       "    </tr>\n",
       "    <tr>\n",
       "      <th>3</th>\n",
       "      <td>3</td>\n",
       "      <td>-47.0</td>\n",
       "      <td>-65.0</td>\n",
       "      <td>-38.0</td>\n",
       "      <td>6.769995</td>\n",
       "      <td>99.43</td>\n",
       "      <td>31.17</td>\n",
       "      <td>15</td>\n",
       "      <td>2020-07-08 14:03:00.093750016</td>\n",
       "      <td>2.0</td>\n",
       "    </tr>\n",
       "    <tr>\n",
       "      <th>4</th>\n",
       "      <td>4</td>\n",
       "      <td>-67.0</td>\n",
       "      <td>-57.0</td>\n",
       "      <td>-53.0</td>\n",
       "      <td>6.769995</td>\n",
       "      <td>99.43</td>\n",
       "      <td>31.17</td>\n",
       "      <td>15</td>\n",
       "      <td>2020-07-08 14:03:00.124999936</td>\n",
       "      <td>2.0</td>\n",
       "    </tr>\n",
       "  </tbody>\n",
       "</table>\n",
       "</div>"
      ],
      "text/plain": [
       "   Unnamed: 0  Acc_X  Acc_Y  Acc_Z  EDA_Level  Heart_Rate  Skin_Temperature  \\\n",
       "0           0  -13.0  -61.0    5.0   6.769995       99.43             31.17   \n",
       "1           1  -20.0  -69.0   -3.0   6.769995       99.43             31.17   \n",
       "2           2  -31.0  -78.0  -15.0   6.769995       99.43             31.17   \n",
       "3           3  -47.0  -65.0  -38.0   6.769995       99.43             31.17   \n",
       "4           4  -67.0  -57.0  -53.0   6.769995       99.43             31.17   \n",
       "\n",
       "   id                       datetime  Stress_Level  \n",
       "0  15  2020-07-08 14:03:00.000000000           2.0  \n",
       "1  15  2020-07-08 14:03:00.031249920           2.0  \n",
       "2  15  2020-07-08 14:03:00.062500096           2.0  \n",
       "3  15  2020-07-08 14:03:00.093750016           2.0  \n",
       "4  15  2020-07-08 14:03:00.124999936           2.0  "
      ]
     },
     "execution_count": 6,
     "metadata": {},
     "output_type": "execute_result"
    }
   ],
   "source": [
    "df.head()"
   ]
  },
  {
   "cell_type": "code",
   "execution_count": 7,
   "metadata": {},
   "outputs": [
    {
     "data": {
      "text/plain": [
       "Unnamed: 0          0\n",
       "Acc_X               0\n",
       "Acc_Y               0\n",
       "Acc_Z               0\n",
       "EDA_Level           0\n",
       "Heart_Rate          0\n",
       "Skin_Temperature    0\n",
       "id                  0\n",
       "datetime            0\n",
       "Stress_Level        0\n",
       "dtype: int64"
      ]
     },
     "execution_count": 7,
     "metadata": {},
     "output_type": "execute_result"
    }
   ],
   "source": [
    "df.isnull().sum()"
   ]
  },
  {
   "cell_type": "code",
   "execution_count": 8,
   "metadata": {},
   "outputs": [
    {
     "data": {
      "text/plain": [
       "dtype('float64')"
      ]
     },
     "execution_count": 8,
     "metadata": {},
     "output_type": "execute_result"
    }
   ],
   "source": [
    "df['Stress_Level'].dtype"
   ]
  },
  {
   "cell_type": "code",
   "execution_count": 9,
   "metadata": {},
   "outputs": [],
   "source": [
    "df['datetime'] = pd.to_datetime(df['datetime'])"
   ]
  },
  {
   "cell_type": "code",
   "execution_count": 10,
   "metadata": {},
   "outputs": [
    {
     "data": {
      "text/plain": [
       "0          2020-07\n",
       "1          2020-07\n",
       "2          2020-07\n",
       "3          2020-07\n",
       "4          2020-07\n",
       "            ...   \n",
       "3547609    2020-07\n",
       "3547610    2020-07\n",
       "3547611    2020-07\n",
       "3547612    2020-07\n",
       "3547613    2020-07\n",
       "Name: datetime, Length: 3547614, dtype: period[M]"
      ]
     },
     "execution_count": 10,
     "metadata": {},
     "output_type": "execute_result"
    }
   ],
   "source": [
    "df['datetime'].dt.to_period('M')"
   ]
  },
  {
   "cell_type": "code",
   "execution_count": 11,
   "metadata": {},
   "outputs": [],
   "source": [
    "df['id']  = df['id'].astype(str)"
   ]
  },
  {
   "cell_type": "code",
   "execution_count": 12,
   "metadata": {},
   "outputs": [],
   "source": [
    "from sklearn import preprocessing\n",
    "  \n",
    "label_encoder = preprocessing.LabelEncoder()\n",
    "  \n",
    "df['id']= label_encoder.fit_transform(df['id'])"
   ]
  },
  {
   "cell_type": "code",
   "execution_count": 13,
   "metadata": {},
   "outputs": [
    {
     "name": "stdout",
     "output_type": "stream",
     "text": [
      "<class 'pandas.core.frame.DataFrame'>\n",
      "RangeIndex: 3547614 entries, 0 to 3547613\n",
      "Data columns (total 10 columns):\n",
      " #   Column            Dtype         \n",
      "---  ------            -----         \n",
      " 0   Unnamed: 0        int64         \n",
      " 1   Acc_X             float64       \n",
      " 2   Acc_Y             float64       \n",
      " 3   Acc_Z             float64       \n",
      " 4   EDA_Level         float64       \n",
      " 5   Heart_Rate        float64       \n",
      " 6   Skin_Temperature  float64       \n",
      " 7   id                int32         \n",
      " 8   datetime          datetime64[ns]\n",
      " 9   Stress_Level      float64       \n",
      "dtypes: datetime64[ns](1), float64(7), int32(1), int64(1)\n",
      "memory usage: 257.1 MB\n"
     ]
    }
   ],
   "source": [
    "df.info()"
   ]
  },
  {
   "cell_type": "code",
   "execution_count": 14,
   "metadata": {},
   "outputs": [
    {
     "data": {
      "image/png": "[encoded data removed]",
      "text/plain": [
       "<Figure size 432x288 with 1 Axes>"
      ]
     },
     "metadata": {
      "needs_background": "light"
     },
     "output_type": "display_data"
    }
   ],
   "source": [
    "plt.hist(df['Stress_Level'])\n",
    "plt.show()"
   ]
  },
  {
   "cell_type": "code",
   "execution_count": 15,
   "metadata": {},
   "outputs": [
    {
     "data": {
      "image/png": "[encoded data removed]",
      "text/plain": [
       "<Figure size 1440x648 with 2 Axes>"
      ]
     },
     "metadata": {
      "needs_background": "light"
     },
     "output_type": "display_data"
    }
   ],
   "source": [
    "plt.figure(figsize=(20,9))\n",
    "\n",
    "dataplot = sns.heatmap(df.corr(), cmap=\"YlGnBu\", annot=True)\n",
    "  \n",
    "plt.show()"
   ]
  },
  {
   "cell_type": "code",
   "execution_count": 16,
   "metadata": {},
   "outputs": [
    {
     "name": "stdout",
     "output_type": "stream",
     "text": [
      "<class 'pandas.core.frame.DataFrame'>\n",
      "RangeIndex: 3547614 entries, 0 to 3547613\n",
      "Data columns (total 10 columns):\n",
      " #   Column            Dtype         \n",
      "---  ------            -----         \n",
      " 0   Unnamed: 0        int64         \n",
      " 1   Acc_X             float64       \n",
      " 2   Acc_Y             float64       \n",
      " 3   Acc_Z             float64       \n",
      " 4   EDA_Level         float64       \n",
      " 5   Heart_Rate        float64       \n",
      " 6   Skin_Temperature  float64       \n",
      " 7   id                int32         \n",
      " 8   datetime          datetime64[ns]\n",
      " 9   Stress_Level      float64       \n",
      "dtypes: datetime64[ns](1), float64(7), int32(1), int64(1)\n",
      "memory usage: 257.1 MB\n"
     ]
    }
   ],
   "source": [
    "df.info()"
   ]
  },
  {
   "cell_type": "code",
   "execution_count": 17,
   "metadata": {},
   "outputs": [],
   "source": [
    "df = df.drop(['datetime'], axis=1)"
   ]
  },
  {
   "cell_type": "code",
   "execution_count": 18,
   "metadata": {},
   "outputs": [],
   "source": [
    "from sklearn.model_selection import train_test_split   # spliting the dataset\n",
    "predictors=df.drop(\"Stress_Level\",axis=1)  \n",
    "target=df[\"Stress_Level\"]\n",
    "\n",
    "X_train,X_test,y_train,y_test = train_test_split(predictors,target,test_size=0.20,random_state=0)"
   ]
  },
  {
   "cell_type": "code",
   "execution_count": 19,
   "metadata": {},
   "outputs": [],
   "source": [
    "# from sklearn.preprocessing import StandardScaler\n",
    "\n",
    "# scaler = StandardScaler()\n",
    "\n",
    "# X_train = scaler.fit_transform(X_train)\n",
    "\n",
    "# X_test = scaler.transform(X_test)"
   ]
  },
  {
   "cell_type": "code",
   "execution_count": 20,
   "metadata": {},
   "outputs": [
    {
     "data": {
      "text/html": [
       "<style>#sk-container-id-1 {color: black;background-color: white;}#sk-container-id-1 pre{padding: 0;}#sk-container-id-1 div.sk-toggleable {background-color: white;}#sk-container-id-1 label.sk-toggleable__label {cursor: pointer;display: block;width: 100%;margin-bottom: 0;padding: 0.3em;box-sizing: border-box;text-align: center;}#sk-container-id-1 label.sk-toggleable__label-arrow:before {content: \"▸\";float: left;margin-right: 0.25em;color: #696969;}#sk-container-id-1 label.sk-toggleable__label-arrow:hover:before {color: black;}#sk-container-id-1 div.sk-estimator:hover label.sk-toggleable__label-arrow:before {color: black;}#sk-container-id-1 div.sk-toggleable__content {max-height: 0;max-width: 0;overflow: hidden;text-align: left;background-color: #f0f8ff;}#sk-container-id-1 div.sk-toggleable__content pre {margin: 0.2em;color: black;border-radius: 0.25em;background-color: #f0f8ff;}#sk-container-id-1 input.sk-toggleable__control:checked~div.sk-toggleable__content {max-height: 200px;max-width: 100%;overflow: auto;}#sk-container-id-1 input.sk-toggleable__control:checked~label.sk-toggleable__label-arrow:before {content: \"▾\";}#sk-container-id-1 div.sk-estimator input.sk-toggleable__control:checked~label.sk-toggleable__label {background-color: #d4ebff;}#sk-container-id-1 div.sk-label input.sk-toggleable__control:checked~label.sk-toggleable__label {background-color: #d4ebff;}#sk-container-id-1 input.sk-hidden--visually {border: 0;clip: rect(1px 1px 1px 1px);clip: rect(1px, 1px, 1px, 1px);height: 1px;margin: -1px;overflow: hidden;padding: 0;position: absolute;width: 1px;}#sk-container-id-1 div.sk-estimator {font-family: monospace;background-color: #f0f8ff;border: 1px dotted black;border-radius: 0.25em;box-sizing: border-box;margin-bottom: 0.5em;}#sk-container-id-1 div.sk-estimator:hover {background-color: #d4ebff;}#sk-container-id-1 div.sk-parallel-item::after {content: \"\";width: 100%;border-bottom: 1px solid gray;flex-grow: 1;}#sk-container-id-1 div.sk-label:hover label.sk-toggleable__label {background-color: #d4ebff;}#sk-container-id-1 div.sk-serial::before {content: \"\";position: absolute;border-left: 1px solid gray;box-sizing: border-box;top: 0;bottom: 0;left: 50%;z-index: 0;}#sk-container-id-1 div.sk-serial {display: flex;flex-direction: column;align-items: center;background-color: white;padding-right: 0.2em;padding-left: 0.2em;position: relative;}#sk-container-id-1 div.sk-item {position: relative;z-index: 1;}#sk-container-id-1 div.sk-parallel {display: flex;align-items: stretch;justify-content: center;background-color: white;position: relative;}#sk-container-id-1 div.sk-item::before, #sk-container-id-1 div.sk-parallel-item::before {content: \"\";position: absolute;border-left: 1px solid gray;box-sizing: border-box;top: 0;bottom: 0;left: 50%;z-index: -1;}#sk-container-id-1 div.sk-parallel-item {display: flex;flex-direction: column;z-index: 1;position: relative;background-color: white;}#sk-container-id-1 div.sk-parallel-item:first-child::after {align-self: flex-end;width: 50%;}#sk-container-id-1 div.sk-parallel-item:last-child::after {align-self: flex-start;width: 50%;}#sk-container-id-1 div.sk-parallel-item:only-child::after {width: 0;}#sk-container-id-1 div.sk-dashed-wrapped {border: 1px dashed gray;margin: 0 0.4em 0.5em 0.4em;box-sizing: border-box;padding-bottom: 0.4em;background-color: white;}#sk-container-id-1 div.sk-label label {font-family: monospace;font-weight: bold;display: inline-block;line-height: 1.2em;}#sk-container-id-1 div.sk-label-container {text-align: center;}#sk-container-id-1 div.sk-container {/* jupyter's `normalize.less` sets `[hidden] { display: none; }` but bootstrap.min.css set `[hidden] { display: none !important; }` so we also need the `!important` here to be able to override the default hidden behavior on the sphinx rendered scikit-learn.org. See: https://github.com/scikit-learn/scikit-learn/issues/21755 */display: inline-block !important;position: relative;}#sk-container-id-1 div.sk-text-repr-fallback {display: none;}</style><div id=\"sk-container-id-1\" class=\"sk-top-container\"><div class=\"sk-text-repr-fallback\"><pre>LogisticRegression()</pre><b>In a Jupyter environment, please rerun this cell to show the HTML representation or trust the notebook. <br />On GitHub, the HTML representation is unable to render, please try loading this page with nbviewer.org.</b></div><div class=\"sk-container\" hidden><div class=\"sk-item\"><div class=\"sk-estimator sk-toggleable\"><input class=\"sk-toggleable__control sk-hidden--visually\" id=\"sk-estimator-id-1\" type=\"checkbox\" checked><label for=\"sk-estimator-id-1\" class=\"sk-toggleable__label sk-toggleable__label-arrow\">LogisticRegression</label><div class=\"sk-toggleable__content\"><pre>LogisticRegression()</pre></div></div></div></div></div>"
      ],
      "text/plain": [
       "LogisticRegression()"
      ]
     },
     "execution_count": 20,
     "metadata": {},
     "output_type": "execute_result"
    }
   ],
   "source": [
    "from sklearn.linear_model import LogisticRegression\n",
    "\n",
    "lr = LogisticRegression()\n",
    "\n",
    "lr.fit(X_train,y_train)"
   ]
  },
  {
   "cell_type": "code",
   "execution_count": 21,
   "metadata": {},
   "outputs": [
    {
     "data": {
      "text/plain": [
       "array([2., 2., 2., ..., 2., 2., 2.])"
      ]
     },
     "execution_count": 21,
     "metadata": {},
     "output_type": "execute_result"
    }
   ],
   "source": [
    "y_pred_test = lr.predict(X_test)\n",
    "\n",
    "y_pred_test"
   ]
  },
  {
   "cell_type": "code",
   "execution_count": 23,
   "metadata": {},
   "outputs": [
    {
     "name": "stdout",
     "output_type": "stream",
     "text": [
      "Model accuracy score: 0.7379\n"
     ]
    }
   ],
   "source": [
    "from sklearn.metrics import accuracy_score\n",
    "\n",
    "print('Model accuracy score: {0:0.4f}'. format(accuracy_score(y_test, y_pred_test)))"
   ]
  },
  {
   "cell_type": "code",
   "execution_count": 24,
   "metadata": {},
   "outputs": [
    {
     "name": "stdout",
     "output_type": "stream",
     "text": [
      "Accuracy: 0.738\n"
     ]
    }
   ],
   "source": [
    "from sklearn.model_selection import cross_val_score\n",
    "from sklearn.datasets import make_classification\n",
    "from sklearn.model_selection import cross_val_score, cross_val_predict\n",
    "log_reg = LogisticRegression()\n",
    "\n",
    "scores = cross_val_score(log_reg, predictors, target, cv=5)\n",
    "y_pred = cross_val_predict(log_reg, predictors, target, cv=5)\n",
    "accuracy = accuracy_score(target, y_pred)\n",
    "print(f\"Accuracy: {accuracy:.3f}\")"
   ]
  }
 ],
 "metadata": {
  "kernelspec": {
   "display_name": "Python 3",
   "language": "python",
   "name": "python3"
  },
  "language_info": {
   "codemirror_mode": {
    "name": "ipython",
    "version": 3
   },
   "file_extension": ".py",
   "mimetype": "text/x-python",
   "name": "python",
   "nbconvert_exporter": "python",
   "pygments_lexer": "ipython3",
   "version": "3.10.3"
  },
  "orig_nbformat": 4
 },
 "nbformat": 4,
 "nbformat_minor": 2
}
